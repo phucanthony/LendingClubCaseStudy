{
 "cells": [
  {
   "cell_type": "markdown",
   "id": "597db3d9",
   "metadata": {},
   "source": [
    "### Test"
   ]
  },
  {
   "cell_type": "markdown",
   "id": "ada2847b",
   "metadata": {},
   "source": [
    "# I. Import the required libraries"
   ]
  },
  {
   "cell_type": "code",
   "execution_count": 1,
   "id": "435de07e",
   "metadata": {},
   "outputs": [],
   "source": [
    "import pandas as pd\n",
    "import seaborn as sns\n",
    "import matplotlib.pyplot as plt"
   ]
  },
  {
   "cell_type": "markdown",
   "id": "52c25802",
   "metadata": {},
   "source": [
    "# II. Loading the data"
   ]
  },
  {
   "cell_type": "code",
   "execution_count": 2,
   "id": "66abfa60",
   "metadata": {},
   "outputs": [],
   "source": [
    "df = pd.read_csv('Downloads/loan.csv', low_memory=False)"
   ]
  },
  {
   "cell_type": "markdown",
   "id": "22a273c3",
   "metadata": {},
   "source": [
    "## Set display options for pandas (Show all columns, flexible column width)"
   ]
  },
  {
   "cell_type": "code",
   "execution_count": 3,
   "id": "3b78e1f4",
   "metadata": {},
   "outputs": [],
   "source": [
    "pd.set_option('display.max_columns', None)\n",
    "pd.set_option('display.max_colwidth', None)\n",
    "pd.set_option('display.width', None)\n",
    "pd.set_option('display.expand_frame_repr', False)"
   ]
  },
  {
   "cell_type": "markdown",
   "id": "73208710",
   "metadata": {},
   "source": [
    "# III. Cleaning data"
   ]
  },
  {
   "cell_type": "markdown",
   "id": "cade7474",
   "metadata": {},
   "source": [
    "## 3.1. Dropping columns"
   ]
  },
  {
   "cell_type": "markdown",
   "id": "6f911627",
   "metadata": {},
   "source": [
    "### 3.1.1. List out the columns that has missing values"
   ]
  },
  {
   "cell_type": "code",
   "execution_count": 4,
   "id": "ad533b0e",
   "metadata": {},
   "outputs": [
    {
     "data": {
      "text/plain": [
       "id                                0\n",
       "member_id                         0\n",
       "loan_amnt                         0\n",
       "funded_amnt                       0\n",
       "funded_amnt_inv                   0\n",
       "                              ...  \n",
       "tax_liens                        39\n",
       "tot_hi_cred_lim               39717\n",
       "total_bal_ex_mort             39717\n",
       "total_bc_limit                39717\n",
       "total_il_high_credit_limit    39717\n",
       "Length: 111, dtype: int64"
      ]
     },
     "execution_count": 4,
     "metadata": {},
     "output_type": "execute_result"
    }
   ],
   "source": [
    "df.isnull().sum()"
   ]
  },
  {
   "cell_type": "markdown",
   "id": "a25b99ea",
   "metadata": {},
   "source": [
    "### Remove all the columns in which percentage of missing values is greater than 80%"
   ]
  },
  {
   "cell_type": "code",
   "execution_count": 5,
   "id": "984a710a",
   "metadata": {},
   "outputs": [],
   "source": [
    "total_rows = df.shape[0];\n",
    "to_be_removed_columns = [];\n",
    "for col_name, sum_of_null_value in df.isnull().sum().iteritems():\n",
    "    if (sum_of_null_value / total_rows >= 0.8):\n",
    "        to_be_removed_columns.append(col_name)\n",
    "\n",
    "df.drop(columns=to_be_removed_columns, inplace=True)"
   ]
  },
  {
   "cell_type": "markdown",
   "id": "460bc5f4",
   "metadata": {},
   "source": [
    "### 3.1.2. Drop customer behavior columns\n",
    "The Customer behavior variables are not available at the time of loan application, and thus they cannot be used as predictor for credit approval"
   ]
  },
  {
   "cell_type": "code",
   "execution_count": 6,
   "id": "a5ff04e9",
   "metadata": {},
   "outputs": [],
   "source": [
    "customer_behavior_columns = [\n",
    "    'delinq_2yrs',\n",
    "    'earliest_cr_line',\n",
    "    'inq_last_6mths',\n",
    "    'open_acc',\n",
    "    'pub_rec',\n",
    "    'revol_bal',\n",
    "    'revol_util',\n",
    "    'total_acc',\n",
    "    'out_prncp',\n",
    "    'out_prncp_inv',\n",
    "    'total_pymnt',\n",
    "    'total_pymnt_inv',\n",
    "    'total_rec_int',\n",
    "    'total_rec_prncp',\n",
    "    'total_rec_late_fee',\n",
    "    'recoveries',\n",
    "    'collection_recovery_fee',\n",
    "    'last_pymnt_d',\n",
    "    'last_pymnt_amnt',\n",
    "    'last_credit_pull_d'\n",
    "]\n",
    "df.drop(columns=customer_behavior_columns, inplace=True)"
   ]
  },
  {
   "cell_type": "markdown",
   "id": "3a8e5ee1",
   "metadata": {},
   "source": [
    "### 3.1.3. Drop another columns"
   ]
  },
  {
   "attachments": {},
   "cell_type": "markdown",
   "id": "34727e2a",
   "metadata": {},
   "source": [
    "1. Checking through the `application_type`, the only value is `INDIVIDUAL`\n",
    "So all the records are invidual application, not joint, we will remove all the columns that indicates co-borrowers. Those are:\n",
    "- `annual_inc_joint`\n",
    "- `dti_joint`\n",
    "- `verified_status_joint`\n",
    "\n",
    "And we should remove the `application_type` as well, as the column contains only 1 value"
   ]
  },
  {
   "cell_type": "code",
   "execution_count": 7,
   "id": "b38bc531",
   "metadata": {},
   "outputs": [],
   "source": [
    "df.drop(\n",
    "    columns=['annual_inc_joint', 'dti_joint', 'verified_status_joint', 'application_type'],\n",
    "    errors='ignore', \n",
    "    inplace=True\n",
    ")"
   ]
  },
  {
   "cell_type": "markdown",
   "id": "c517cbfc",
   "metadata": {},
   "source": [
    "2. List out the columns with unique value count"
   ]
  },
  {
   "cell_type": "code",
   "execution_count": 8,
   "id": "48899d42",
   "metadata": {},
   "outputs": [
    {
     "data": {
      "text/plain": [
       "id                            39717\n",
       "member_id                     39717\n",
       "loan_amnt                       885\n",
       "funded_amnt                    1041\n",
       "funded_amnt_inv                8205\n",
       "term                              2\n",
       "int_rate                        371\n",
       "installment                   15383\n",
       "grade                             7\n",
       "sub_grade                        35\n",
       "emp_title                     28820\n",
       "emp_length                       11\n",
       "home_ownership                    5\n",
       "annual_inc                     5318\n",
       "verification_status               3\n",
       "issue_d                          55\n",
       "loan_status                       3\n",
       "pymnt_plan                        1\n",
       "url                           39717\n",
       "desc                          26527\n",
       "purpose                          14\n",
       "title                         19615\n",
       "zip_code                        823\n",
       "addr_state                       50\n",
       "dti                            2868\n",
       "mths_since_last_delinq           95\n",
       "initial_list_status               1\n",
       "collections_12_mths_ex_med        1\n",
       "policy_code                       1\n",
       "acc_now_delinq                    1\n",
       "chargeoff_within_12_mths          1\n",
       "delinq_amnt                       1\n",
       "pub_rec_bankruptcies              3\n",
       "tax_liens                         1\n",
       "dtype: int64"
      ]
     },
     "execution_count": 8,
     "metadata": {},
     "output_type": "execute_result"
    }
   ],
   "source": [
    "df.nunique()"
   ]
  },
  {
   "cell_type": "markdown",
   "id": "082db606",
   "metadata": {},
   "source": [
    "We should remove the columns with count of unique value is 1, as it will have no effect on the analysis"
   ]
  },
  {
   "cell_type": "code",
   "execution_count": 9,
   "id": "88c5f6a8",
   "metadata": {},
   "outputs": [],
   "source": [
    "to_be_removed_columns = [];\n",
    "for col_name, unique_value in df.nunique().iteritems():\n",
    "    if (unique_value == 1):\n",
    "        to_be_removed_columns.append(col_name)\n",
    "        \n",
    "df.drop(columns=to_be_removed_columns, inplace=True)"
   ]
  },
  {
   "cell_type": "markdown",
   "id": "a26944e8",
   "metadata": {},
   "source": [
    "The `url` and `desc` is also unneeded for analysis. Let's remove them"
   ]
  },
  {
   "cell_type": "code",
   "execution_count": 10,
   "id": "85291235",
   "metadata": {},
   "outputs": [],
   "source": [
    "df.drop(columns=['url', 'desc'], inplace=True)"
   ]
  },
  {
   "cell_type": "markdown",
   "id": "995c964c",
   "metadata": {},
   "source": [
    "Since the `purpose` is clearer and it can includes the meaning of `title`, let's remove `title` as well"
   ]
  },
  {
   "cell_type": "code",
   "execution_count": 11,
   "id": "6422bc43",
   "metadata": {},
   "outputs": [],
   "source": [
    "df.drop(columns=['title'], inplace=True)"
   ]
  },
  {
   "cell_type": "markdown",
   "id": "08d2c810",
   "metadata": {},
   "source": [
    "## 3.2. Cleaning rows"
   ]
  },
  {
   "cell_type": "markdown",
   "id": "775bde9a",
   "metadata": {},
   "source": [
    "### 3.2.1. Removing `Current` loan status"
   ]
  },
  {
   "cell_type": "markdown",
   "id": "ccb06ff7",
   "metadata": {},
   "source": [
    "We will remove the rows with `loan_status` is `Current` because we only need to analyze loans that are ended (`Fully Paid` or `Charge Off`)"
   ]
  },
  {
   "cell_type": "code",
   "execution_count": 12,
   "id": "333dfdd1",
   "metadata": {},
   "outputs": [],
   "source": [
    "df = df[df.loan_status != 'Current']"
   ]
  },
  {
   "cell_type": "markdown",
   "id": "546d90b1",
   "metadata": {},
   "source": [
    "### 3.2.2. Removing outliers"
   ]
  },
  {
   "cell_type": "markdown",
   "id": "11e60f20",
   "metadata": {},
   "source": [
    "Check for `annual_inc` column:"
   ]
  },
  {
   "cell_type": "code",
   "execution_count": 13,
   "id": "d08b8a5a",
   "metadata": {},
   "outputs": [
    {
     "data": {
      "text/plain": [
       "<AxesSubplot:>"
      ]
     },
     "execution_count": 13,
     "metadata": {},
     "output_type": "execute_result"
    },
    {
     "data": {
      "image/png": "[encoded data removed]",
      "text/plain": [
       "<Figure size 432x288 with 1 Axes>"
      ]
     },
     "metadata": {
      "needs_background": "light"
     },
     "output_type": "display_data"
    }
   ],
   "source": [
    "df.boxplot(column=['annual_inc'])"
   ]
  },
  {
   "cell_type": "markdown",
   "id": "c29773ba",
   "metadata": {},
   "source": [
    "We can see in the above boxplot for `annual_inc`, the max value is too high compare to the upper threshold, we need to remove those outliers"
   ]
  },
  {
   "cell_type": "code",
   "execution_count": 14,
   "id": "77fdd8cd",
   "metadata": {},
   "outputs": [],
   "source": [
    "df = df[df.annual_inc < df.annual_inc.quantile(0.99)]"
   ]
  },
  {
   "cell_type": "code",
   "execution_count": 15,
   "id": "7aadf56b",
   "metadata": {},
   "outputs": [
    {
     "data": {
      "text/plain": [
       "<AxesSubplot:>"
      ]
     },
     "execution_count": 15,
     "metadata": {},
     "output_type": "execute_result"
    },
    {
     "data": {
      "image/png": "[encoded data removed]",
      "text/plain": [
       "<Figure size 640x480 with 1 Axes>"
      ]
     },
     "metadata": {},
     "output_type": "display_data"
    }
   ],
   "source": [
    "df.boxplot(column=['annual_inc'])"
   ]
  },
  {
   "cell_type": "markdown",
   "id": "93860599",
   "metadata": {},
   "source": [
    "The boxplot is now easier to look at"
   ]
  },
  {
   "cell_type": "markdown",
   "id": "0a4a59e6",
   "metadata": {},
   "source": [
    "### 3.2.3. Convert data to correct type"
   ]
  },
  {
   "cell_type": "markdown",
   "id": "f9e6be3d",
   "metadata": {},
   "source": [
    "Check data type of all columns"
   ]
  },
  {
   "cell_type": "code",
   "execution_count": 16,
   "id": "380dbb23",
   "metadata": {},
   "outputs": [
    {
     "name": "stdout",
     "output_type": "stream",
     "text": [
      "<class 'pandas.core.frame.DataFrame'>\n",
      "Int64Index: 38191 entries, 0 to 39716\n",
      "Data columns (total 23 columns):\n",
      " #   Column                  Non-Null Count  Dtype  \n",
      "---  ------                  --------------  -----  \n",
      " 0   id                      38191 non-null  int64  \n",
      " 1   member_id               38191 non-null  int64  \n",
      " 2   loan_amnt               38191 non-null  int64  \n",
      " 3   funded_amnt             38191 non-null  int64  \n",
      " 4   funded_amnt_inv         38191 non-null  float64\n",
      " 5   term                    38191 non-null  object \n",
      " 6   int_rate                38191 non-null  object \n",
      " 7   installment             38191 non-null  float64\n",
      " 8   grade                   38191 non-null  object \n",
      " 9   sub_grade               38191 non-null  object \n",
      " 10  emp_title               35846 non-null  object \n",
      " 11  emp_length              37163 non-null  object \n",
      " 12  home_ownership          38191 non-null  object \n",
      " 13  annual_inc              38191 non-null  float64\n",
      " 14  verification_status     38191 non-null  object \n",
      " 15  issue_d                 38191 non-null  object \n",
      " 16  loan_status             38191 non-null  object \n",
      " 17  purpose                 38191 non-null  object \n",
      " 18  zip_code                38191 non-null  object \n",
      " 19  addr_state              38191 non-null  object \n",
      " 20  dti                     38191 non-null  float64\n",
      " 21  mths_since_last_delinq  13515 non-null  float64\n",
      " 22  pub_rec_bankruptcies    37503 non-null  float64\n",
      "dtypes: float64(6), int64(4), object(13)\n",
      "memory usage: 7.0+ MB\n"
     ]
    }
   ],
   "source": [
    "df.info()"
   ]
  },
  {
   "cell_type": "markdown",
   "id": "e26e9d56",
   "metadata": {},
   "source": [
    "#### - `int_rate` (Interest rate) should be a number"
   ]
  },
  {
   "cell_type": "code",
   "execution_count": 17,
   "id": "a12a942b",
   "metadata": {},
   "outputs": [
    {
     "data": {
      "text/plain": [
       "10.99%    904\n",
       "11.49%    786\n",
       "7.51%     782\n",
       "13.49%    744\n",
       "7.88%     717\n",
       "         ... \n",
       "16.96%      1\n",
       "18.36%      1\n",
       "16.15%      1\n",
       "16.01%      1\n",
       "16.20%      1\n",
       "Name: int_rate, Length: 370, dtype: int64"
      ]
     },
     "execution_count": 17,
     "metadata": {},
     "output_type": "execute_result"
    }
   ],
   "source": [
    "df.int_rate.value_counts()"
   ]
  },
  {
   "cell_type": "markdown",
   "id": "1c74ed03",
   "metadata": {},
   "source": [
    "Let's remove the % mark and convert it to number"
   ]
  },
  {
   "cell_type": "code",
   "execution_count": 18,
   "id": "8262b218",
   "metadata": {},
   "outputs": [],
   "source": [
    "df.int_rate = pd.to_numeric(df.int_rate.apply(lambda x: x.replace('%', '')))"
   ]
  },
  {
   "cell_type": "markdown",
   "id": "87d8faf5",
   "metadata": {},
   "source": [
    "df.int_rate.describe()"
   ]
  },
  {
   "cell_type": "markdown",
   "id": "4b37834a",
   "metadata": {},
   "source": [
    "#### - `issue_d` (The issuing date must be a date)"
   ]
  },
  {
   "cell_type": "code",
   "execution_count": 19,
   "id": "92419657",
   "metadata": {},
   "outputs": [
    {
     "data": {
      "text/plain": [
       "Nov-11    2045\n",
       "Dec-11    2025\n",
       "Oct-11    1913\n",
       "Sep-11    1891\n",
       "Aug-11    1781\n",
       "Jul-11    1730\n",
       "Jun-11    1709\n",
       "May-11    1593\n",
       "Apr-11    1548\n",
       "Mar-11    1427\n",
       "Jan-11    1369\n",
       "Feb-11    1287\n",
       "Dec-10    1255\n",
       "Oct-10    1117\n",
       "Nov-10    1114\n",
       "Jul-10    1112\n",
       "Sep-10    1075\n",
       "Aug-10    1073\n",
       "Jun-10    1020\n",
       "May-10     908\n",
       "Apr-10     819\n",
       "Mar-10     722\n",
       "Feb-10     617\n",
       "Nov-09     592\n",
       "Dec-09     588\n",
       "Jan-10     580\n",
       "Oct-09     539\n",
       "Sep-09     447\n",
       "Aug-09     405\n",
       "Jul-09     367\n",
       "Jun-09     350\n",
       "May-09     316\n",
       "Apr-09     286\n",
       "Mar-09     276\n",
       "Feb-09     259\n",
       "Jan-09     237\n",
       "Mar-08     234\n",
       "Dec-08     222\n",
       "Nov-08     183\n",
       "Feb-08     174\n",
       "Jan-08     168\n",
       "Apr-08     155\n",
       "Oct-08      94\n",
       "Dec-07      85\n",
       "Jul-08      83\n",
       "Aug-08      71\n",
       "May-08      70\n",
       "Jun-08      66\n",
       "Oct-07      46\n",
       "Nov-07      35\n",
       "Aug-07      33\n",
       "Sep-08      32\n",
       "Jul-07      29\n",
       "Sep-07      18\n",
       "Jun-07       1\n",
       "Name: issue_d, dtype: int64"
      ]
     },
     "execution_count": 19,
     "metadata": {},
     "output_type": "execute_result"
    }
   ],
   "source": [
    "df.issue_d.value_counts() #Check format of datetime"
   ]
  },
  {
   "cell_type": "code",
   "execution_count": 20,
   "id": "d8bbec45",
   "metadata": {},
   "outputs": [],
   "source": [
    "df.issue_d = pd.to_datetime(df.issue_d, format='%b-%y')"
   ]
  },
  {
   "cell_type": "markdown",
   "id": "b4ba940e",
   "metadata": {},
   "source": [
    "### 3.2.4. Imputing data"
   ]
  },
  {
   "cell_type": "markdown",
   "id": "46029744",
   "metadata": {},
   "source": [
    "**Check for missing values**"
   ]
  },
  {
   "cell_type": "code",
   "execution_count": 21,
   "id": "19c21281",
   "metadata": {},
   "outputs": [
    {
     "data": {
      "text/plain": [
       "id                            0\n",
       "member_id                     0\n",
       "loan_amnt                     0\n",
       "funded_amnt                   0\n",
       "funded_amnt_inv               0\n",
       "term                          0\n",
       "int_rate                      0\n",
       "installment                   0\n",
       "grade                         0\n",
       "sub_grade                     0\n",
       "emp_title                  2345\n",
       "emp_length                 1028\n",
       "home_ownership                0\n",
       "annual_inc                    0\n",
       "verification_status           0\n",
       "issue_d                       0\n",
       "loan_status                   0\n",
       "purpose                       0\n",
       "zip_code                      0\n",
       "addr_state                    0\n",
       "dti                           0\n",
       "mths_since_last_delinq    24676\n",
       "pub_rec_bankruptcies        688\n",
       "dtype: int64"
      ]
     },
     "execution_count": 21,
     "metadata": {},
     "output_type": "execute_result"
    }
   ],
   "source": [
    "df.isnull().sum()"
   ]
  },
  {
   "cell_type": "code",
   "execution_count": 22,
   "id": "ea44ef48",
   "metadata": {},
   "outputs": [
    {
     "data": {
      "text/plain": [
       "(38191, 23)"
      ]
     },
     "execution_count": 22,
     "metadata": {},
     "output_type": "execute_result"
    }
   ],
   "source": [
    "df.shape"
   ]
  },
  {
   "cell_type": "markdown",
   "id": "dfae68fe",
   "metadata": {},
   "source": [
    "***Since the total rows with missing value for `emp_length` is low (1028 compare to 39319). Let's remove those rows***"
   ]
  },
  {
   "cell_type": "code",
   "execution_count": 23,
   "id": "60d6cf52",
   "metadata": {},
   "outputs": [],
   "source": [
    "df = df[df.emp_length.notnull()]"
   ]
  },
  {
   "cell_type": "code",
   "execution_count": 25,
   "id": "6dd7567a",
   "metadata": {},
   "outputs": [],
   "source": [
    "df['emp_title'] = df['emp_title'].fillna('None') # Also fill None to the missing `emp_title`"
   ]
  },
  {
   "cell_type": "code",
   "execution_count": 26,
   "id": "9b58e5ec",
   "metadata": {},
   "outputs": [
    {
     "data": {
      "text/plain": [
       "id                            0\n",
       "member_id                     0\n",
       "loan_amnt                     0\n",
       "funded_amnt                   0\n",
       "funded_amnt_inv               0\n",
       "term                          0\n",
       "int_rate                      0\n",
       "installment                   0\n",
       "grade                         0\n",
       "sub_grade                     0\n",
       "emp_title                     0\n",
       "emp_length                    0\n",
       "home_ownership                0\n",
       "annual_inc                    0\n",
       "verification_status           0\n",
       "issue_d                       0\n",
       "loan_status                   0\n",
       "purpose                       0\n",
       "zip_code                      0\n",
       "addr_state                    0\n",
       "dti                           0\n",
       "mths_since_last_delinq    23978\n",
       "pub_rec_bankruptcies        688\n",
       "dtype: int64"
      ]
     },
     "execution_count": 26,
     "metadata": {},
     "output_type": "execute_result"
    }
   ],
   "source": [
    "df.isnull().sum() # Check missing value again"
   ]
  },
  {
   "cell_type": "markdown",
   "id": "720ead86",
   "metadata": {},
   "source": [
    "***Now the data is ready for analysis***"
   ]
  },
  {
   "cell_type": "code",
   "execution_count": 46,
   "id": "c6dbcaf1",
   "metadata": {},
   "outputs": [
    {
     "data": {
      "text/html": [
       "<div>\n",
       "<style scoped>\n",
       "    .dataframe tbody tr th:only-of-type {\n",
       "        vertical-align: middle;\n",
       "    }\n",
       "\n",
       "    .dataframe tbody tr th {\n",
       "        vertical-align: top;\n",
       "    }\n",
       "\n",
       "    .dataframe thead th {\n",
       "        text-align: right;\n",
       "    }\n",
       "</style>\n",
       "<table border=\"1\" class=\"dataframe\">\n",
       "  <thead>\n",
       "    <tr style=\"text-align: right;\">\n",
       "      <th></th>\n",
       "      <th>id</th>\n",
       "      <th>member_id</th>\n",
       "      <th>loan_amnt</th>\n",
       "      <th>funded_amnt</th>\n",
       "      <th>funded_amnt_inv</th>\n",
       "      <th>term</th>\n",
       "      <th>int_rate</th>\n",
       "      <th>installment</th>\n",
       "      <th>grade</th>\n",
       "      <th>sub_grade</th>\n",
       "      <th>emp_title</th>\n",
       "      <th>emp_length</th>\n",
       "      <th>home_ownership</th>\n",
       "      <th>annual_inc</th>\n",
       "      <th>verification_status</th>\n",
       "      <th>issue_d</th>\n",
       "      <th>loan_status</th>\n",
       "      <th>purpose</th>\n",
       "      <th>zip_code</th>\n",
       "      <th>addr_state</th>\n",
       "      <th>dti</th>\n",
       "      <th>mths_since_last_delinq</th>\n",
       "      <th>pub_rec_bankruptcies</th>\n",
       "    </tr>\n",
       "  </thead>\n",
       "  <tbody>\n",
       "    <tr>\n",
       "      <th>0</th>\n",
       "      <td>1077501</td>\n",
       "      <td>1296599</td>\n",
       "      <td>5000</td>\n",
       "      <td>5000</td>\n",
       "      <td>4975.0</td>\n",
       "      <td>36 months</td>\n",
       "      <td>10.65</td>\n",
       "      <td>162.87</td>\n",
       "      <td>B</td>\n",
       "      <td>B2</td>\n",
       "      <td>None</td>\n",
       "      <td>10+ years</td>\n",
       "      <td>RENT</td>\n",
       "      <td>24000.0</td>\n",
       "      <td>Verified</td>\n",
       "      <td>2011-12-01</td>\n",
       "      <td>Fully Paid</td>\n",
       "      <td>credit_card</td>\n",
       "      <td>860xx</td>\n",
       "      <td>AZ</td>\n",
       "      <td>27.65</td>\n",
       "      <td>NaN</td>\n",
       "      <td>0.0</td>\n",
       "    </tr>\n",
       "    <tr>\n",
       "      <th>1</th>\n",
       "      <td>1077430</td>\n",
       "      <td>1314167</td>\n",
       "      <td>2500</td>\n",
       "      <td>2500</td>\n",
       "      <td>2500.0</td>\n",
       "      <td>60 months</td>\n",
       "      <td>15.27</td>\n",
       "      <td>59.83</td>\n",
       "      <td>C</td>\n",
       "      <td>C4</td>\n",
       "      <td>Ryder</td>\n",
       "      <td>&lt; 1 year</td>\n",
       "      <td>RENT</td>\n",
       "      <td>30000.0</td>\n",
       "      <td>Source Verified</td>\n",
       "      <td>2011-12-01</td>\n",
       "      <td>Charged Off</td>\n",
       "      <td>car</td>\n",
       "      <td>309xx</td>\n",
       "      <td>GA</td>\n",
       "      <td>1.00</td>\n",
       "      <td>NaN</td>\n",
       "      <td>0.0</td>\n",
       "    </tr>\n",
       "    <tr>\n",
       "      <th>2</th>\n",
       "      <td>1077175</td>\n",
       "      <td>1313524</td>\n",
       "      <td>2400</td>\n",
       "      <td>2400</td>\n",
       "      <td>2400.0</td>\n",
       "      <td>36 months</td>\n",
       "      <td>15.96</td>\n",
       "      <td>84.33</td>\n",
       "      <td>C</td>\n",
       "      <td>C5</td>\n",
       "      <td>None</td>\n",
       "      <td>10+ years</td>\n",
       "      <td>RENT</td>\n",
       "      <td>12252.0</td>\n",
       "      <td>Not Verified</td>\n",
       "      <td>2011-12-01</td>\n",
       "      <td>Fully Paid</td>\n",
       "      <td>small_business</td>\n",
       "      <td>606xx</td>\n",
       "      <td>IL</td>\n",
       "      <td>8.72</td>\n",
       "      <td>NaN</td>\n",
       "      <td>0.0</td>\n",
       "    </tr>\n",
       "    <tr>\n",
       "      <th>3</th>\n",
       "      <td>1076863</td>\n",
       "      <td>1277178</td>\n",
       "      <td>10000</td>\n",
       "      <td>10000</td>\n",
       "      <td>10000.0</td>\n",
       "      <td>36 months</td>\n",
       "      <td>13.49</td>\n",
       "      <td>339.31</td>\n",
       "      <td>C</td>\n",
       "      <td>C1</td>\n",
       "      <td>AIR RESOURCES BOARD</td>\n",
       "      <td>10+ years</td>\n",
       "      <td>RENT</td>\n",
       "      <td>49200.0</td>\n",
       "      <td>Source Verified</td>\n",
       "      <td>2011-12-01</td>\n",
       "      <td>Fully Paid</td>\n",
       "      <td>other</td>\n",
       "      <td>917xx</td>\n",
       "      <td>CA</td>\n",
       "      <td>20.00</td>\n",
       "      <td>35.0</td>\n",
       "      <td>0.0</td>\n",
       "    </tr>\n",
       "    <tr>\n",
       "      <th>5</th>\n",
       "      <td>1075269</td>\n",
       "      <td>1311441</td>\n",
       "      <td>5000</td>\n",
       "      <td>5000</td>\n",
       "      <td>5000.0</td>\n",
       "      <td>36 months</td>\n",
       "      <td>7.90</td>\n",
       "      <td>156.46</td>\n",
       "      <td>A</td>\n",
       "      <td>A4</td>\n",
       "      <td>Veolia Transportaton</td>\n",
       "      <td>3 years</td>\n",
       "      <td>RENT</td>\n",
       "      <td>36000.0</td>\n",
       "      <td>Source Verified</td>\n",
       "      <td>2011-12-01</td>\n",
       "      <td>Fully Paid</td>\n",
       "      <td>wedding</td>\n",
       "      <td>852xx</td>\n",
       "      <td>AZ</td>\n",
       "      <td>11.20</td>\n",
       "      <td>NaN</td>\n",
       "      <td>0.0</td>\n",
       "    </tr>\n",
       "  </tbody>\n",
       "</table>\n",
       "</div>"
      ],
      "text/plain": [
       "        id  member_id  loan_amnt  funded_amnt  funded_amnt_inv        term  int_rate  installment grade sub_grade             emp_title emp_length home_ownership  annual_inc verification_status    issue_d  loan_status         purpose zip_code addr_state    dti  mths_since_last_delinq  pub_rec_bankruptcies\n",
       "0  1077501    1296599       5000         5000           4975.0   36 months     10.65       162.87     B        B2                  None  10+ years           RENT     24000.0            Verified 2011-12-01   Fully Paid     credit_card    860xx         AZ  27.65                     NaN                   0.0\n",
       "1  1077430    1314167       2500         2500           2500.0   60 months     15.27        59.83     C        C4                 Ryder   < 1 year           RENT     30000.0     Source Verified 2011-12-01  Charged Off             car    309xx         GA   1.00                     NaN                   0.0\n",
       "2  1077175    1313524       2400         2400           2400.0   36 months     15.96        84.33     C        C5                  None  10+ years           RENT     12252.0        Not Verified 2011-12-01   Fully Paid  small_business    606xx         IL   8.72                     NaN                   0.0\n",
       "3  1076863    1277178      10000        10000          10000.0   36 months     13.49       339.31     C        C1   AIR RESOURCES BOARD  10+ years           RENT     49200.0     Source Verified 2011-12-01   Fully Paid           other    917xx         CA  20.00                    35.0                   0.0\n",
       "5  1075269    1311441       5000         5000           5000.0   36 months      7.90       156.46     A        A4  Veolia Transportaton    3 years           RENT     36000.0     Source Verified 2011-12-01   Fully Paid         wedding    852xx         AZ  11.20                     NaN                   0.0"
      ]
     },
     "execution_count": 46,
     "metadata": {},
     "output_type": "execute_result"
    }
   ],
   "source": [
    "df.head()"
   ]
  },
  {
   "cell_type": "code",
   "execution_count": 47,
   "id": "6ce92b68",
   "metadata": {},
   "outputs": [
    {
     "data": {
      "text/plain": [
       "(37163, 23)"
      ]
     },
     "execution_count": 47,
     "metadata": {},
     "output_type": "execute_result"
    }
   ],
   "source": [
    "df.shape"
   ]
  },
  {
   "cell_type": "markdown",
   "id": "02919c39",
   "metadata": {},
   "source": [
    "# IV. Data analysis"
   ]
  },
  {
   "cell_type": "markdown",
   "id": "2ab01dd9",
   "metadata": {},
   "source": [
    "## 4.1. Loan status insights"
   ]
  },
  {
   "cell_type": "markdown",
   "id": "207e40b7",
   "metadata": {},
   "source": [
    "Let's take a look on the `loan_status`"
   ]
  },
  {
   "cell_type": "code",
   "execution_count": 49,
   "id": "2627c234",
   "metadata": {},
   "outputs": [
    {
     "data": {
      "image/png": "[encoded data removed]",
      "text/plain": [
       "<Figure size 640x480 with 1 Axes>"
      ]
     },
     "metadata": {},
     "output_type": "display_data"
    }
   ],
   "source": [
    "df.loan_status.value_counts().plot(kind='pie', title='Loan Status', autopct=lambda pct: '%.2f' % pct + '%')\n",
    "plt.show()"
   ]
  },
  {
   "cell_type": "markdown",
   "id": "8638b1ec",
   "metadata": {},
   "source": [
    "#### Insights\n",
    "- Among 37163 loan applications, 14.41% was charged off"
   ]
  },
  {
   "cell_type": "markdown",
   "id": "f231aa20",
   "metadata": {},
   "source": [
    "## 4.2. Loans amount vs Loan Status"
   ]
  },
  {
   "cell_type": "code",
   "execution_count": 59,
   "id": "18c7c3b4",
   "metadata": {},
   "outputs": [
    {
     "data": {
      "image/png": "[encoded data removed]",
      "text/plain": [
       "<Figure size 640x480 with 2 Axes>"
      ]
     },
     "metadata": {},
     "output_type": "display_data"
    }
   ],
   "source": [
    "df.hist(column=['loan_amnt', 'funded_amnt'])\n",
    "plt.show()"
   ]
  },
  {
   "cell_type": "markdown",
   "id": "35bc0349",
   "metadata": {},
   "source": [
    "#### Insights\n",
    "People seems to apply most for the loan range from 4500 - 7000"
   ]
  },
  {
   "cell_type": "code",
   "execution_count": null,
   "id": "5b2f3951",
   "metadata": {},
   "outputs": [],
   "source": []
  }
 ],
 "metadata": {
  "kernelspec": {
   "display_name": "Python 3 (ipykernel)",
   "language": "python",
   "name": "python3"
  },
  "language_info": {
   "codemirror_mode": {
    "name": "ipython",
    "version": 3
   },
   "file_extension": ".py",
   "mimetype": "text/x-python",
   "name": "python",
   "nbconvert_exporter": "python",
   "pygments_lexer": "ipython3",
   "version": "3.9.7"
  }
 },
 "nbformat": 4,
 "nbformat_minor": 5
}
